{
 "cells": [
  {
   "cell_type": "markdown",
   "metadata": {},
   "source": [
    "## Import estimators"
   ]
  },
  {
   "cell_type": "code",
   "execution_count": 13,
   "metadata": {},
   "outputs": [],
   "source": [
    "from pydistinct.stats_estimators import *\n",
    "from pydistinct.ensemble_estimators import median_estimator"
   ]
  },
  {
   "cell_type": "markdown",
   "metadata": {},
   "source": [
    "# Demonstration of technique\n",
    "\n",
    "### Sample 500 values from a population of 1000 integers. \n",
    "### Can the estimators correctly compute the population size of 1000 integers?"
   ]
  },
  {
   "cell_type": "code",
   "execution_count": 14,
   "metadata": {},
   "outputs": [
    {
     "name": "stdout",
     "output_type": "stream",
     "text": [
      "Ground truth : 1000\n",
      "sampled_values :  [152 190 861 233 168 474 680 347 883  83  85  73 266 391 439 347  24 665\n",
      " 130 796  94 775  23 371 963 618 873 204 834  61 728 660 751 338 880 604\n",
      " 436 826 196 405 521 585 574 584 635 860 650 709 736 994 333 903 197 371\n",
      " 502 943 760 789 531 795 708 618 675 427 709 764 521 335 999 132 857 606\n",
      " 649 304 840 901 740 787 190 522 498  93 334 819  77 945 302 948 441 499\n",
      " 674 430 769  50  74  85 512 302 739 433 924 509 200  62 277 631 470 551\n",
      " 109 692  65 529 501 211 646 746 986 945 115  94 627 728 340 647 651 238\n",
      " 395 635 436 878 379 401 348 412 772 618 269 494 656   1 461   8 436 716\n",
      " 322 295 674 809 244 253 702 477 394 965   8 290 247 392 608  11 699 776\n",
      " 983 196 444 396 902 747 336 159 511 170 661 530 449 728 472  67 773 133\n",
      " 362 583 178 231  32 222 563 525 591 763 792 906 246 123 477 769 294 338\n",
      " 979 702  92   6 291 658 635 948 364 338 191 578 852 520 517 376   8 444\n",
      " 621 151 557 263 379 234 237 607 101 741 131 688 243 711 258 270 223 209\n",
      " 571 857 401 329 158  20 667 622 348 359 819 322 254 468 900  38 618  99\n",
      " 168 509 736 621 855 662 512 231 962 207 807 991 386  28 230 624 437 445\n",
      " 769 783 722 195 417 869 334 746 454 322 162 880 600 272 166  69 581 376\n",
      " 279 672 442 767 241 365 544 607 502 939 300 572 838 970 931 819   2 428\n",
      " 665 733 635 957 118 561 369 875 650 647 685 549 206 136 894 309 392 666\n",
      " 630  86 648 418 510 440 298 568 166 602 332 275 330 328 761 692 827  89\n",
      " 478 988 428 749 429 739  15  24  83 360 919 719 798 825 907 531 221 417\n",
      " 820 859 993 412 673 314 228 957 215 528 110 320 424 306 356 709 891 696\n",
      "  24 202 695 933   6 729 484 730 669 420 383 849 864 258 592 119 266 532\n",
      " 800 186 691 373 932 323 510 989 299 578  80 873 147 217 422 772 765 598\n",
      " 126 956 570 481 485 596 273 845   9 505 945 981 114 337 633 427 280 846\n",
      " 253 155 939 513 801 648 371  93 204   5 996 677 445 573 537 571 102 255\n",
      " 813 658 789  77 916 928 512 654 644 373 659 496  59 168 770 534 779 511\n",
      " 787 374  98 309 498 901 986 305 290 297 464 901  49 801 564 673 754 457\n",
      "  75 871  11 425  61 236 898 714 869 132  44  69 164 252]\n"
     ]
    }
   ],
   "source": [
    "from pydistinct.sampling import sample_uniform, sample_gaussian, sample_zipf\n",
    "uniform = sample_uniform(n_distinct_integers=1000, sample_size=500, seed=1337) \n",
    "print(\"Ground truth : {}\".format(uniform[\"ground_truth\"]))\n",
    "print(\"sampled_values : \", uniform[\"sample\"])"
   ]
  },
  {
   "cell_type": "code",
   "execution_count": 15,
   "metadata": {},
   "outputs": [
    {
     "name": "stdout",
     "output_type": "stream",
     "text": [
      "1013.1954292072004\n",
      "518.4906064599444\n",
      "585.7879884021419\n",
      "1027.0415022416053\n"
     ]
    }
   ],
   "source": [
    "# Using the estimators\n",
    "print(median_estimator(uniform[\"sample\"])) # generally the best estimator\n",
    "print(bootstrap_estimator(uniform[\"sample\"]))\n",
    "print(horvitz_thompson_estimator(uniform[\"sample\"]))\n",
    "print(smoothed_jackknife_estimator(uniform[\"sample\"]))"
   ]
  },
  {
   "cell_type": "markdown",
   "metadata": {},
   "source": [
    "### You can also use a dictionary of attribute counts to do computation\n",
    "#### This is a key value pair representation of a sample with the key as the element and the value as the count of the element"
   ]
  },
  {
   "cell_type": "code",
   "execution_count": 17,
   "metadata": {},
   "outputs": [
    {
     "name": "stdout",
     "output_type": "stream",
     "text": [
      "{1: 1, 2: 1, 5: 1, 6: 2, 8: 3, 9: 1, 11: 2, 15: 1, 20: 1, 23: 1, 24: 3, 28: 1, 32: 1, 38: 1, 44: 1, 49: 1, 50: 1, 59: 1, 61: 2, 62: 1, 65: 1, 67: 1, 69: 2, 73: 1, 74: 1, 75: 1, 77: 2, 80: 1, 83: 2, 85: 2, 86: 1, 89: 1, 92: 1, 93: 2, 94: 2, 98: 1, 99: 1, 101: 1, 102: 1, 109: 1, 110: 1, 114: 1, 115: 1, 118: 1, 119: 1, 123: 1, 126: 1, 130: 1, 131: 1, 132: 2, 133: 1, 136: 1, 147: 1, 151: 1, 152: 1, 155: 1, 158: 1, 159: 1, 162: 1, 164: 1, 166: 2, 168: 3, 170: 1, 178: 1, 186: 1, 190: 2, 191: 1, 195: 1, 196: 2, 197: 1, 200: 1, 202: 1, 204: 2, 206: 1, 207: 1, 209: 1, 211: 1, 215: 1, 217: 1, 221: 1, 222: 1, 223: 1, 228: 1, 230: 1, 231: 2, 233: 1, 234: 1, 236: 1, 237: 1, 238: 1, 241: 1, 243: 1, 244: 1, 246: 1, 247: 1, 252: 1, 253: 2, 254: 1, 255: 1, 258: 2, 263: 1, 266: 2, 269: 1, 270: 1, 272: 1, 273: 1, 275: 1, 277: 1, 279: 1, 280: 1, 290: 2, 291: 1, 294: 1, 295: 1, 297: 1, 298: 1, 299: 1, 300: 1, 302: 2, 304: 1, 305: 1, 306: 1, 309: 2, 314: 1, 320: 1, 322: 3, 323: 1, 328: 1, 329: 1, 330: 1, 332: 1, 333: 1, 334: 2, 335: 1, 336: 1, 337: 1, 338: 3, 340: 1, 347: 2, 348: 2, 356: 1, 359: 1, 360: 1, 362: 1, 364: 1, 365: 1, 369: 1, 371: 3, 373: 2, 374: 1, 376: 2, 379: 2, 383: 1, 386: 1, 391: 1, 392: 2, 394: 1, 395: 1, 396: 1, 401: 2, 405: 1, 412: 2, 417: 2, 418: 1, 420: 1, 422: 1, 424: 1, 425: 1, 427: 2, 428: 2, 429: 1, 430: 1, 433: 1, 436: 3, 437: 1, 439: 1, 440: 1, 441: 1, 442: 1, 444: 2, 445: 2, 449: 1, 454: 1, 457: 1, 461: 1, 464: 1, 468: 1, 470: 1, 472: 1, 474: 1, 477: 2, 478: 1, 481: 1, 484: 1, 485: 1, 494: 1, 496: 1, 498: 2, 499: 1, 501: 1, 502: 2, 505: 1, 509: 2, 510: 2, 511: 2, 512: 3, 513: 1, 517: 1, 520: 1, 521: 2, 522: 1, 525: 1, 528: 1, 529: 1, 530: 1, 531: 2, 532: 1, 534: 1, 537: 1, 544: 1, 549: 1, 551: 1, 557: 1, 561: 1, 563: 1, 564: 1, 568: 1, 570: 1, 571: 2, 572: 1, 573: 1, 574: 1, 578: 2, 581: 1, 583: 1, 584: 1, 585: 1, 591: 1, 592: 1, 596: 1, 598: 1, 600: 1, 602: 1, 604: 1, 606: 1, 607: 2, 608: 1, 618: 4, 621: 2, 622: 1, 624: 1, 627: 1, 630: 1, 631: 1, 633: 1, 635: 4, 644: 1, 646: 1, 647: 2, 648: 2, 649: 1, 650: 2, 651: 1, 654: 1, 656: 1, 658: 2, 659: 1, 660: 1, 661: 1, 662: 1, 665: 2, 666: 1, 667: 1, 669: 1, 672: 1, 673: 2, 674: 2, 675: 1, 677: 1, 680: 1, 685: 1, 688: 1, 691: 1, 692: 2, 695: 1, 696: 1, 699: 1, 702: 2, 708: 1, 709: 3, 711: 1, 714: 1, 716: 1, 719: 1, 722: 1, 728: 3, 729: 1, 730: 1, 733: 1, 736: 2, 739: 2, 740: 1, 741: 1, 746: 2, 747: 1, 749: 1, 751: 1, 754: 1, 760: 1, 761: 1, 763: 1, 764: 1, 765: 1, 767: 1, 769: 3, 770: 1, 772: 2, 773: 1, 775: 1, 776: 1, 779: 1, 783: 1, 787: 2, 789: 2, 792: 1, 795: 1, 796: 1, 798: 1, 800: 1, 801: 2, 807: 1, 809: 1, 813: 1, 819: 3, 820: 1, 825: 1, 826: 1, 827: 1, 834: 1, 838: 1, 840: 1, 845: 1, 846: 1, 849: 1, 852: 1, 855: 1, 857: 2, 859: 1, 860: 1, 861: 1, 864: 1, 869: 2, 871: 1, 873: 2, 875: 1, 878: 1, 880: 2, 883: 1, 891: 1, 894: 1, 898: 1, 900: 1, 901: 3, 902: 1, 903: 1, 906: 1, 907: 1, 916: 1, 919: 1, 924: 1, 928: 1, 931: 1, 932: 1, 933: 1, 939: 2, 943: 1, 945: 3, 948: 2, 956: 1, 957: 2, 962: 1, 963: 1, 965: 1, 970: 1, 979: 1, 981: 1, 983: 1, 986: 2, 988: 1, 989: 1, 991: 1, 993: 1, 994: 1, 996: 1, 999: 1}\n"
     ]
    }
   ],
   "source": [
    "from pydistinct.utils import _get_attribute_counts\n",
    "attrs = _get_attribute_counts(uniform[\"sample\"]) # we convert our pervious sample into this representation\n",
    "print(attrs)"
   ]
  },
  {
   "cell_type": "code",
   "execution_count": 19,
   "metadata": {},
   "outputs": [
    {
     "name": "stdout",
     "output_type": "stream",
     "text": [
      "1013.1954292072004\n"
     ]
    }
   ],
   "source": [
    "print(median_estimator(attributes=attrs))"
   ]
  },
  {
   "cell_type": "markdown",
   "metadata": {},
   "source": [
    "### Using this representation, the keys can also be strings (or any hashable type in fact!)"
   ]
  },
  {
   "cell_type": "code",
   "execution_count": 21,
   "metadata": {},
   "outputs": [
    {
     "name": "stdout",
     "output_type": "stream",
     "text": [
      "4.99810792149732\n"
     ]
    }
   ],
   "source": [
    "ecological_sample = {\"Carica papaya\":1, \"Quercus robur\":2, \"Mangifera indica\":1}\n",
    "print(median_estimator(attributes=ecological_sample)) "
   ]
  },
  {
   "cell_type": "markdown",
   "metadata": {},
   "source": [
    "# A bootstrap module is also included to generate CIs"
   ]
  },
  {
   "cell_type": "code",
   "execution_count": 22,
   "metadata": {},
   "outputs": [
    {
     "name": "stdout",
     "output_type": "stream",
     "text": [
      "1013.1954292072005    (934.8627672053022, 1104.5740587473167)\n",
      "1027.0415022416055    (932.6184802582554, 1126.6746717399876)\n"
     ]
    }
   ],
   "source": [
    "from pydistinct.bootstrap import bootstrap\n",
    "print(bootstrap(sequence=uniform[\"sample\"],num_iterations=1000,iteration_batch_size=10,stat_func=median_estimator,alpha=0.05,is_pivotal=False))\n",
    "print(bootstrap(attributes=attrs,num_iterations=1000,iteration_batch_size=10,stat_func=smoothed_jackknife_estimator,alpha=0.05,is_pivotal=False))\n"
   ]
  },
  {
   "cell_type": "markdown",
   "metadata": {},
   "source": [
    "# bootstrap is less precise with skewed distributions"
   ]
  },
  {
   "cell_type": "code",
   "execution_count": 26,
   "metadata": {},
   "outputs": [
    {
     "name": "stdout",
     "output_type": "stream",
     "text": [
      "ground truth : 271\n",
      "214.46501159599572    (187.71267008800743, 242.3747134876277)\n",
      "205.7244030361701    (173.80846047257614, 234.03305325955245)\n"
     ]
    }
   ],
   "source": [
    "zipf = sample_zipf(alpha=1.3, population_size=1000, sample_size=500,seed=42) # sample from a zipf function (power law distribution)\n",
    "print(\"ground truth : {}\".format(zipf[\"ground_truth\"]))\n",
    "print(bootstrap(sequence=zipf[\"sample\"],num_iterations=1000,stat_func=median_estimator,alpha=0.01))\n",
    "print(bootstrap(sequence=zipf[\"sample\"],num_iterations=1000,stat_func=smoothed_jackknife_estimator,alpha=0.01))\n"
   ]
  },
  {
   "cell_type": "markdown",
   "metadata": {},
   "source": [
    "# including estimate of population size helps some estimators"
   ]
  },
  {
   "cell_type": "code",
   "execution_count": 27,
   "metadata": {},
   "outputs": [
    {
     "name": "stdout",
     "output_type": "stream",
     "text": [
      "555\n"
     ]
    },
    {
     "data": {
      "text/plain": [
       "587.1545210657686"
      ]
     },
     "execution_count": 27,
     "metadata": {},
     "output_type": "execute_result"
    }
   ],
   "source": [
    "gaussian = sample_gaussian(population_size=1000,sample_size=500,seed=42) # gaussian distribution centered at 0\n",
    "print(gaussian[\"ground_truth\"])\n",
    "smoothed_jackknife_estimator(gaussian[\"sample\"])\n",
    "smoothed_jackknife_estimator(uniform[\"sample\"],pop_estimator = lambda x : x * 2) # provide ratio of sample size to population"
   ]
  },
  {
   "cell_type": "markdown",
   "metadata": {},
   "source": [
    "### You will need to use a label encoder to convert strings to integers, or use the value counter method"
   ]
  },
  {
   "cell_type": "code",
   "execution_count": 44,
   "metadata": {},
   "outputs": [
    {
     "name": "stdout",
     "output_type": "stream",
     "text": [
      "['179.19.165.217', '15.141.192.215', '65.156.245.224', '171.73.0.169', '95.183.21.88']\n",
      "[35 23 80 32 97]\n"
     ]
    },
    {
     "data": {
      "text/plain": [
       "2184"
      ]
     },
     "execution_count": 44,
     "metadata": {},
     "output_type": "execute_result"
    }
   ],
   "source": [
    "from sklearn import preprocessing\n",
    "le = preprocessing.LabelEncoder()\n",
    "list_of_ips = \"\"\"179.19.165.217,15.141.192.215,65.156.245.224,171.73.0.169,95.183.21.88,84.119.201.97,232.52.161.226,118.99.4.106,0.99.41.93,173.45.123.174,69.220.150.128,235.156.19.169,79.227.254.214,93.178.54.167,226.87.216.61,74.43.145.145,156.57.241.163,12.44.146.41,238.105.101.194,203.193.162.41,223.25.188.118,215.111.199.42,132.248.243.114,149.101.122.98,51.239.27.250,35.173.103.49,58.116.247.108,21.116.7.150,153.100.51.4,243.137.224.170,126.184.75.197,29.245.116.141,237.131.63.224,146.36.175.68,99.50.10.31,109.132.57.250,62.146.84.20,185.78.102.242,6.105.8.196,111.211.181.59,207.136.25.59,20.116.67.5,166.8.62.156,113.216.130.70,30.73.41.49,142.228.167.130,0.151.229.196,16.200.30.176,184.145.250.129,126.217.154.100,111.174.3.27,65.71.251.18,85.147.90.152,130.199.145.224,92.115.252.102,8.148.186.216,185.19.212.230,156.33.194.112,84.102.210.151,178.237.250.83,9.77.121.141,223.5.19.148,163.223.153.88,87.54.252.73,228.104.137.210,100.141.179.225,224.131.156.179,161.104.31.123,81.34.254.250,26.108.24.224,67.221.12.230,39.113.138.146,180.195.127.46,126.50.81.204,190.72.235.169,237.62.4.70,53.117.207.31,120.147.83.139,137.32.206.228,224.166.97.9,110.56.231.156,255.193.121.255,160.27.240.209,226.57.97.150,235.225.141.163,200.190.233.232,215.54.119.237,13.70.135.183,80.168.51.63,52.171.6.158,2.204.160.199,37.129.36.208,215.237.58.79,96.162.168.223,8.226.217.124,188.90.218.223,144.129.245.195,110.247.229.69,253.29.160.67,63.148.35.47\"\"\"\n",
    "list_of_ips = list_of_ips.split(\",\")\n",
    "print(list_of_ips[:5])\n",
    "sequence = le.fit_transform(list_of_ips)\n",
    "print(sequence[:5])\n",
    "smoothed_jackknife_estimator(sequence)"
   ]
  },
  {
   "cell_type": "markdown",
   "metadata": {},
   "source": [
    "### Alternatively, you can also use a value counter to use strings as input :"
   ]
  },
  {
   "cell_type": "code",
   "execution_count": 46,
   "metadata": {},
   "outputs": [
    {
     "data": {
      "text/plain": [
       "3.4691572359396434"
      ]
     },
     "execution_count": 46,
     "metadata": {},
     "output_type": "execute_result"
    }
   ],
   "source": [
    "from collections import Counter\n",
    "z = ['blue', 'red', 'blue', 'yellow', 'blue', 'red']\n",
    "attrs = dict(Counter(z))\n",
    "median_estimator(attributes=attrs)"
   ]
  },
  {
   "cell_type": "code",
   "execution_count": null,
   "metadata": {},
   "outputs": [],
   "source": []
  }
 ],
 "metadata": {
  "kernelspec": {
   "display_name": "Python 3",
   "language": "python",
   "name": "python3"
  },
  "language_info": {
   "codemirror_mode": {
    "name": "ipython",
    "version": 3
   },
   "file_extension": ".py",
   "mimetype": "text/x-python",
   "name": "python",
   "nbconvert_exporter": "python",
   "pygments_lexer": "ipython3",
   "version": "3.6.4"
  }
 },
 "nbformat": 4,
 "nbformat_minor": 2
}
