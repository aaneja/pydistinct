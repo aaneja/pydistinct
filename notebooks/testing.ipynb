{
 "cells": [
  {
   "cell_type": "code",
   "execution_count": 9,
   "metadata": {},
   "outputs": [],
   "source": [
    "from pydistinct.stats_estimators import *"
   ]
  },
  {
   "cell_type": "code",
   "execution_count": 28,
   "metadata": {},
   "outputs": [],
   "source": [
    "from pydistinct.ml_estimator import est_transform"
   ]
  },
  {
   "cell_type": "code",
   "execution_count": null,
   "metadata": {},
   "outputs": [],
   "source": []
  },
  {
   "cell_type": "code",
   "execution_count": 10,
   "metadata": {},
   "outputs": [],
   "source": [
    "from pydistinct import sampling"
   ]
  },
  {
   "cell_type": "code",
   "execution_count": 80,
   "metadata": {},
   "outputs": [],
   "source": [
    "uniform = sampling.sample_gaussian(200,1000,500)"
   ]
  },
  {
   "cell_type": "code",
   "execution_count": 81,
   "metadata": {},
   "outputs": [
    {
     "data": {
      "text/plain": [
       "{'sample': [-170,\n",
       "  -199,\n",
       "  43,\n",
       "  5,\n",
       "  -53,\n",
       "  243,\n",
       "  -164,\n",
       "  -78,\n",
       "  30,\n",
       "  38,\n",
       "  -352,\n",
       "  -161,\n",
       "  308,\n",
       "  279,\n",
       "  319,\n",
       "  129,\n",
       "  50,\n",
       "  -70,\n",
       "  180,\n",
       "  -62,\n",
       "  -294,\n",
       "  -80,\n",
       "  73,\n",
       "  134,\n",
       "  77,\n",
       "  218,\n",
       "  -14,\n",
       "  -210,\n",
       "  50,\n",
       "  -49,\n",
       "  104,\n",
       "  -159,\n",
       "  137,\n",
       "  99,\n",
       "  403,\n",
       "  -355,\n",
       "  59,\n",
       "  -313,\n",
       "  -223,\n",
       "  -454,\n",
       "  -143,\n",
       "  65,\n",
       "  -80,\n",
       "  -4,\n",
       "  121,\n",
       "  121,\n",
       "  -27,\n",
       "  -88,\n",
       "  -232,\n",
       "  21,\n",
       "  -53,\n",
       "  -381,\n",
       "  -102,\n",
       "  -286,\n",
       "  87,\n",
       "  75,\n",
       "  160,\n",
       "  165,\n",
       "  -62,\n",
       "  -100,\n",
       "  -86,\n",
       "  200,\n",
       "  -47,\n",
       "  250,\n",
       "  185,\n",
       "  -223,\n",
       "  218,\n",
       "  -195,\n",
       "  -37,\n",
       "  -339,\n",
       "  197,\n",
       "  -76,\n",
       "  16,\n",
       "  -200,\n",
       "  167,\n",
       "  169,\n",
       "  27,\n",
       "  19,\n",
       "  242,\n",
       "  295,\n",
       "  -474,\n",
       "  -345,\n",
       "  621,\n",
       "  -157,\n",
       "  359,\n",
       "  -181,\n",
       "  -147,\n",
       "  223,\n",
       "  54,\n",
       "  -273,\n",
       "  -18,\n",
       "  202,\n",
       "  147,\n",
       "  15,\n",
       "  -177,\n",
       "  100,\n",
       "  163,\n",
       "  -306,\n",
       "  -320,\n",
       "  -126,\n",
       "  -18,\n",
       "  105,\n",
       "  -91,\n",
       "  -308,\n",
       "  -155,\n",
       "  66,\n",
       "  179,\n",
       "  260,\n",
       "  -60,\n",
       "  127,\n",
       "  98,\n",
       "  -47,\n",
       "  -188,\n",
       "  134,\n",
       "  310,\n",
       "  248,\n",
       "  21,\n",
       "  163,\n",
       "  -76,\n",
       "  -252,\n",
       "  -90,\n",
       "  -16,\n",
       "  -27,\n",
       "  -11,\n",
       "  169,\n",
       "  -310,\n",
       "  -73,\n",
       "  118,\n",
       "  25,\n",
       "  -109,\n",
       "  -105,\n",
       "  -212,\n",
       "  92,\n",
       "  165,\n",
       "  -374,\n",
       "  85,\n",
       "  237,\n",
       "  -4,\n",
       "  91,\n",
       "  -292,\n",
       "  -125,\n",
       "  172,\n",
       "  -254,\n",
       "  36,\n",
       "  -185,\n",
       "  56,\n",
       "  -232,\n",
       "  -270,\n",
       "  180,\n",
       "  96,\n",
       "  -121,\n",
       "  33,\n",
       "  -425,\n",
       "  53,\n",
       "  137,\n",
       "  -150,\n",
       "  217,\n",
       "  -29,\n",
       "  100,\n",
       "  -228,\n",
       "  -21,\n",
       "  -258,\n",
       "  31,\n",
       "  1,\n",
       "  -252,\n",
       "  -238,\n",
       "  -109,\n",
       "  -165,\n",
       "  413,\n",
       "  -172,\n",
       "  156,\n",
       "  0,\n",
       "  -283,\n",
       "  327,\n",
       "  131,\n",
       "  174,\n",
       "  39,\n",
       "  -143,\n",
       "  -31,\n",
       "  263,\n",
       "  -294,\n",
       "  191,\n",
       "  275,\n",
       "  261,\n",
       "  198,\n",
       "  195,\n",
       "  13,\n",
       "  174,\n",
       "  214,\n",
       "  141,\n",
       "  -78,\n",
       "  -53,\n",
       "  62,\n",
       "  442,\n",
       "  90,\n",
       "  -363,\n",
       "  166,\n",
       "  211,\n",
       "  -129,\n",
       "  125,\n",
       "  1,\n",
       "  -269,\n",
       "  39,\n",
       "  155,\n",
       "  110,\n",
       "  3,\n",
       "  -41,\n",
       "  -120,\n",
       "  16,\n",
       "  -101,\n",
       "  -156,\n",
       "  -85,\n",
       "  141,\n",
       "  -120,\n",
       "  -232,\n",
       "  208,\n",
       "  -235,\n",
       "  -415,\n",
       "  195,\n",
       "  169,\n",
       "  119,\n",
       "  4,\n",
       "  -254,\n",
       "  243,\n",
       "  -284,\n",
       "  63,\n",
       "  18,\n",
       "  -69,\n",
       "  156,\n",
       "  -114,\n",
       "  0,\n",
       "  -130,\n",
       "  -78,\n",
       "  -293,\n",
       "  -79,\n",
       "  -29,\n",
       "  166,\n",
       "  -72,\n",
       "  -135,\n",
       "  183,\n",
       "  -15,\n",
       "  190,\n",
       "  82,\n",
       "  134,\n",
       "  -4,\n",
       "  -188,\n",
       "  -28,\n",
       "  200,\n",
       "  202,\n",
       "  -237,\n",
       "  -110,\n",
       "  214,\n",
       "  -36,\n",
       "  -68,\n",
       "  180,\n",
       "  9,\n",
       "  -241,\n",
       "  77,\n",
       "  -12,\n",
       "  154,\n",
       "  436,\n",
       "  118,\n",
       "  -87,\n",
       "  39,\n",
       "  60,\n",
       "  -153,\n",
       "  -193,\n",
       "  255,\n",
       "  -224,\n",
       "  -83,\n",
       "  286,\n",
       "  -350,\n",
       "  -47,\n",
       "  -31,\n",
       "  153,\n",
       "  -177,\n",
       "  -227,\n",
       "  -220,\n",
       "  -100,\n",
       "  171,\n",
       "  82,\n",
       "  51,\n",
       "  -241,\n",
       "  -149,\n",
       "  457,\n",
       "  133,\n",
       "  162,\n",
       "  177,\n",
       "  -105,\n",
       "  165,\n",
       "  -27,\n",
       "  350,\n",
       "  141,\n",
       "  159,\n",
       "  141,\n",
       "  25,\n",
       "  -88,\n",
       "  -91,\n",
       "  197,\n",
       "  -120,\n",
       "  -154,\n",
       "  78,\n",
       "  -93,\n",
       "  82,\n",
       "  -15,\n",
       "  -217,\n",
       "  552,\n",
       "  267,\n",
       "  126,\n",
       "  -321,\n",
       "  -21,\n",
       "  92,\n",
       "  72,\n",
       "  -90,\n",
       "  285,\n",
       "  -243,\n",
       "  -272,\n",
       "  -423,\n",
       "  187,\n",
       "  69,\n",
       "  -43,\n",
       "  193,\n",
       "  39,\n",
       "  151,\n",
       "  174,\n",
       "  -267,\n",
       "  88,\n",
       "  73,\n",
       "  154,\n",
       "  -84,\n",
       "  -123,\n",
       "  187,\n",
       "  -100,\n",
       "  209,\n",
       "  -162,\n",
       "  -36,\n",
       "  402,\n",
       "  -110,\n",
       "  49,\n",
       "  353,\n",
       "  -239,\n",
       "  -182,\n",
       "  108,\n",
       "  -96,\n",
       "  -313,\n",
       "  -24,\n",
       "  -5,\n",
       "  78,\n",
       "  -99,\n",
       "  150,\n",
       "  364,\n",
       "  26,\n",
       "  -141,\n",
       "  132,\n",
       "  -140,\n",
       "  -90,\n",
       "  52,\n",
       "  -161,\n",
       "  -30,\n",
       "  4,\n",
       "  -63,\n",
       "  108,\n",
       "  194,\n",
       "  -70,\n",
       "  63,\n",
       "  -205,\n",
       "  157,\n",
       "  -43,\n",
       "  -13,\n",
       "  -70,\n",
       "  -98,\n",
       "  176,\n",
       "  -161,\n",
       "  80,\n",
       "  238,\n",
       "  190,\n",
       "  37,\n",
       "  -314,\n",
       "  -297,\n",
       "  19,\n",
       "  20,\n",
       "  30,\n",
       "  -105,\n",
       "  240,\n",
       "  -25,\n",
       "  -84,\n",
       "  -14,\n",
       "  -442,\n",
       "  -343,\n",
       "  -120,\n",
       "  159,\n",
       "  17,\n",
       "  136,\n",
       "  -248,\n",
       "  -182,\n",
       "  -249,\n",
       "  220,\n",
       "  79,\n",
       "  -36,\n",
       "  -73,\n",
       "  351,\n",
       "  -145,\n",
       "  183,\n",
       "  289,\n",
       "  337,\n",
       "  47,\n",
       "  -223,\n",
       "  -269,\n",
       "  -110,\n",
       "  35,\n",
       "  -81,\n",
       "  366,\n",
       "  -365,\n",
       "  292,\n",
       "  224,\n",
       "  -84,\n",
       "  -504,\n",
       "  -271,\n",
       "  -102,\n",
       "  -109,\n",
       "  -98,\n",
       "  379,\n",
       "  -104,\n",
       "  -11,\n",
       "  185,\n",
       "  120,\n",
       "  72,\n",
       "  -79,\n",
       "  -174,\n",
       "  -303,\n",
       "  -26,\n",
       "  -17,\n",
       "  427,\n",
       "  -105,\n",
       "  136,\n",
       "  72,\n",
       "  -99,\n",
       "  -88,\n",
       "  -164,\n",
       "  -179,\n",
       "  -239,\n",
       "  322,\n",
       "  -5,\n",
       "  -133,\n",
       "  -82,\n",
       "  -304,\n",
       "  32,\n",
       "  142,\n",
       "  101,\n",
       "  -63,\n",
       "  161,\n",
       "  -24,\n",
       "  43,\n",
       "  175,\n",
       "  196,\n",
       "  -67,\n",
       "  189,\n",
       "  -8,\n",
       "  -51,\n",
       "  -290,\n",
       "  0,\n",
       "  -96,\n",
       "  -119,\n",
       "  55,\n",
       "  6,\n",
       "  -105,\n",
       "  -419,\n",
       "  23,\n",
       "  79,\n",
       "  -114,\n",
       "  -141,\n",
       "  338,\n",
       "  -62,\n",
       "  106,\n",
       "  -77,\n",
       "  11,\n",
       "  103,\n",
       "  -46,\n",
       "  -45,\n",
       "  203,\n",
       "  -20,\n",
       "  -123,\n",
       "  -304,\n",
       "  243,\n",
       "  120,\n",
       "  -57,\n",
       "  89,\n",
       "  18,\n",
       "  83,\n",
       "  -103,\n",
       "  234,\n",
       "  64,\n",
       "  -108,\n",
       "  -161,\n",
       "  -230,\n",
       "  -248,\n",
       "  297,\n",
       "  46,\n",
       "  302,\n",
       "  122],\n",
       " 'sample_distinct': 359,\n",
       " 'ground_truth': 552}"
      ]
     },
     "execution_count": 81,
     "metadata": {},
     "output_type": "execute_result"
    }
   ],
   "source": [
    "uniform"
   ]
  },
  {
   "cell_type": "code",
   "execution_count": 82,
   "metadata": {},
   "outputs": [
    {
     "data": {
      "text/plain": [
       "463.7695215710723"
      ]
     },
     "execution_count": 82,
     "metadata": {},
     "output_type": "execute_result"
    }
   ],
   "source": [
    "bootstrap_estimator(uniform[\"sample\"])"
   ]
  },
  {
   "cell_type": "code",
   "execution_count": 83,
   "metadata": {},
   "outputs": [
    {
     "data": {
      "text/plain": [
       "519.6486453398398"
      ]
     },
     "execution_count": 83,
     "metadata": {},
     "output_type": "execute_result"
    }
   ],
   "source": [
    "horvitz_thompson_estimator(uniform[\"sample\"])"
   ]
  },
  {
   "cell_type": "code",
   "execution_count": 84,
   "metadata": {},
   "outputs": [
    {
     "data": {
      "text/plain": [
       "709.4574356684974"
      ]
     },
     "execution_count": 84,
     "metadata": {},
     "output_type": "execute_result"
    }
   ],
   "source": [
    "method_of_moments_v3_estimator(uniform[\"sample\"])"
   ]
  },
  {
   "cell_type": "code",
   "execution_count": 13,
   "metadata": {},
   "outputs": [],
   "source": [
    "def compute_results(sequence):\n",
    "    def try_wrap(func, **kwargs):\n",
    "        try:\n",
    "            return func(**kwargs)\n",
    "        except:\n",
    "            return d\n",
    "\n",
    "    estimators = [(\"chao_estimator\", try_wrap(chao_estimator, sequence=sequence)),\n",
    "                  (\"chao_lee_estimator\", try_wrap(chao_lee_estimator, sequence=sequence)),\n",
    "                  (\"jackknife_estimator\", try_wrap(jackknife_estimator, sequence=sequence)),\n",
    "                  (\"sichel_estimator\", try_wrap(sichel_estimator, sequence=sequence)),\n",
    "                  (\"bootstrap_estimator\", try_wrap(bootstrap_estimator, sequence=sequence)),\n",
    "                  (\"method_of_moments_estimator\", try_wrap(method_of_moments_estimator, sequence=sequence))\n",
    "                  ]\n",
    "\n",
    "    for i in [2, 3, 5, 10, 20]:\n",
    "        estimators.append((\"shlossers_estimator_{}\".format(str(i)),\n",
    "                           try_wrap(shlossers_estimator, sequence=sequence, pop_estimator=lambda x: x * i)))\n",
    "\n",
    "    for n_pop in [1000, 10000, 100000, 1000000, 10000000]:\n",
    "        estimators.append((\"horvitz_thompson_estimator_{}\".format(n_pop),\n",
    "                           try_wrap(horvitz_thompson_estimator, sequence=sequence,\n",
    "                                    pop_estimator=lambda x: x * n_pop)))\n",
    "        estimators.append((\"method_of_moments_v2_estimator_{}\".format(n_pop),\n",
    "                           try_wrap(method_of_moments_v2_estimator, sequence=sequence,\n",
    "                                    pop_estimator=lambda x: x * n_pop)))\n",
    "        estimators.append((\"method_of_moments_v3_estimator_{}\".format(n_pop),\n",
    "                           try_wrap(method_of_moments_v3_estimator, sequence=sequence,\n",
    "                                    pop_estimator=lambda x: x * n_pop)))\n",
    "        estimators.append((\"smoothed_jackknife_estimator_{}\".format(n_pop),\n",
    "                           try_wrap(smoothed_jackknife_estimator, sequence=sequence,\n",
    "                                    pop_estimator=lambda x: x * n_pop)))\n",
    "        estimators.append((\"hybrid_estimator_{}\".format(n_pop),\n",
    "                           try_wrap(hybrid_estimator, sequence=sequence, pop_estimator=lambda x: x * n_pop)))\n",
    "    return estimators"
   ]
  },
  {
   "cell_type": "code",
   "execution_count": 36,
   "metadata": {},
   "outputs": [
    {
     "name": "stdout",
     "output_type": "stream",
     "text": [
      "[21:24:59] WARNING: src/objective/regression_obj.cu:152: reg:linear is now deprecated in favor of reg:squarederror.\n"
     ]
    }
   ],
   "source": [
    "from xgboost import XGBRegressor\n",
    "model = XGBRegressor()\n",
    "model.load_model(\"C:\\\\Users\\\\User\\\\Documents\\\\projects\\\\distinct-values\\\\pydistinct\\\\xgb_estimator.pkl\")"
   ]
  },
  {
   "cell_type": "code",
   "execution_count": 37,
   "metadata": {},
   "outputs": [
    {
     "data": {
      "text/plain": [
       "XGBRegressor(base_score=0.5, booster='gbtree', colsample_bylevel=1,\n",
       "       colsample_bynode=1, colsample_bytree=1, gamma=0,\n",
       "       importance_type='gain', learning_rate=0.1, max_delta_step=0,\n",
       "       max_depth=3, min_child_weight=1, missing=None, n_estimators=100,\n",
       "       n_jobs=1, nthread=None, objective='reg:linear', random_state=0,\n",
       "       reg_alpha=0, reg_lambda=1, scale_pos_weight=1, seed=None,\n",
       "       silent=None, subsample=1, verbosity=1)"
      ]
     },
     "execution_count": 37,
     "metadata": {},
     "output_type": "execute_result"
    }
   ],
   "source": [
    "model."
   ]
  },
  {
   "cell_type": "code",
   "execution_count": 15,
   "metadata": {},
   "outputs": [],
   "source": [
    "all_est_results = compute_results(uniform[\"sample\"])"
   ]
  },
  {
   "cell_type": "code",
   "execution_count": 33,
   "metadata": {},
   "outputs": [
    {
     "data": {
      "text/plain": [
       "[500,\n",
       " 361,\n",
       " 1.3850415512465375,\n",
       " 0,\n",
       " 0.18657220218396459,\n",
       " 1.3850415512465375,\n",
       " 1.0,\n",
       " 5,\n",
       " 1,\n",
       " 0.43623053843969894,\n",
       " 1.9275192708237738,\n",
       " 4.252137620874261,\n",
       " 1.0,\n",
       " 1.0,\n",
       " 0.0,\n",
       " 0.3149584487534626,\n",
       " 251,\n",
       " 87,\n",
       " 723.0747126436781,\n",
       " 725.2170866290647,\n",
       " 611.4980000000048,\n",
       " 735.959414498313,\n",
       " 465.939136305303,\n",
       " 723.4787989985088,\n",
       " 573.5142201024554,\n",
       " 763.8653493076085,\n",
       " 1133.2204836781607,\n",
       " 2044.2948423119358,\n",
       " 3858.9279501517663,\n",
       " 521.2806209921081,\n",
       " 720.0700577265338,\n",
       " 721.4309152213104,\n",
       " 723.1642797930132,\n",
       " 723.1642797930132,\n",
       " 521.4000106074711,\n",
       " 722.2404343693444,\n",
       " 722.3049353811425,\n",
       " 723.8187512245221,\n",
       " 723.8187512245221,\n",
       " 521.4119652202089,\n",
       " 722.3281454754505,\n",
       " 722.3345960396276,\n",
       " 723.8842838957671,\n",
       " 723.8842838957671,\n",
       " 521.4132327260457,\n",
       " 722.3400395056569,\n",
       " 722.3399605826647,\n",
       " 723.8908380194772,\n",
       " 723.8908380194772,\n",
       " 521.4116778043187,\n",
       " 722.3207335510167,\n",
       " 722.342789733146,\n",
       " 723.8914934404154,\n",
       " 723.8914934404154]"
      ]
     },
     "execution_count": 33,
     "metadata": {},
     "output_type": "execute_result"
    }
   ],
   "source": [
    "est_transform(uniform[\"sample\"])"
   ]
  },
  {
   "cell_type": "code",
   "execution_count": 27,
   "metadata": {},
   "outputs": [
    {
     "data": {
      "text/plain": [
       "[('chao_estimator', 723.0747126436781),\n",
       " ('chao_lee_estimator', 725.2170866290647),\n",
       " ('jackknife_estimator', 611.4980000000048),\n",
       " ('sichel_estimator', 735.959414498313),\n",
       " ('bootstrap_estimator', 465.939136305303),\n",
       " ('method_of_moments_estimator', 723.4787989985088),\n",
       " ('shlossers_estimator_2', 573.5142201024554),\n",
       " ('shlossers_estimator_3', 763.8653493076085),\n",
       " ('shlossers_estimator_5', 1133.2204836781607),\n",
       " ('shlossers_estimator_10', 2044.2948423119358),\n",
       " ('shlossers_estimator_20', 3858.9279501517663),\n",
       " ('horvitz_thompson_estimator_1000', 521.2806209921081),\n",
       " ('method_of_moments_v2_estimator_1000', 720.0700577265338),\n",
       " ('method_of_moments_v3_estimator_1000', 721.4309152213104),\n",
       " ('smoothed_jackknife_estimator_1000', 723.1642797930132),\n",
       " ('hybrid_estimator_1000', 723.1642797930132),\n",
       " ('horvitz_thompson_estimator_10000', 521.4000106074711),\n",
       " ('method_of_moments_v2_estimator_10000', 722.2404343693444),\n",
       " ('method_of_moments_v3_estimator_10000', 722.3049353811425),\n",
       " ('smoothed_jackknife_estimator_10000', 723.8187512245221),\n",
       " ('hybrid_estimator_10000', 723.8187512245221),\n",
       " ('horvitz_thompson_estimator_100000', 521.4119652202089),\n",
       " ('method_of_moments_v2_estimator_100000', 722.3281454754505),\n",
       " ('method_of_moments_v3_estimator_100000', 722.3345960396276),\n",
       " ('smoothed_jackknife_estimator_100000', 723.8842838957671),\n",
       " ('hybrid_estimator_100000', 723.8842838957671),\n",
       " ('horvitz_thompson_estimator_1000000', 521.4132327260457),\n",
       " ('method_of_moments_v2_estimator_1000000', 722.3400395056569),\n",
       " ('method_of_moments_v3_estimator_1000000', 722.3399605826647),\n",
       " ('smoothed_jackknife_estimator_1000000', 723.8908380194772),\n",
       " ('hybrid_estimator_1000000', 723.8908380194772),\n",
       " ('horvitz_thompson_estimator_10000000', 521.4116778043187),\n",
       " ('method_of_moments_v2_estimator_10000000', 722.3207335510167),\n",
       " ('method_of_moments_v3_estimator_10000000', 722.342789733146),\n",
       " ('smoothed_jackknife_estimator_10000000', 723.8914934404154),\n",
       " ('hybrid_estimator_10000000', 723.8914934404154)]"
      ]
     },
     "execution_count": 27,
     "metadata": {},
     "output_type": "execute_result"
    }
   ],
   "source": [
    "all_est_results"
   ]
  },
  {
   "cell_type": "code",
   "execution_count": 39,
   "metadata": {},
   "outputs": [],
   "source": [
    "with open(\"C:/Users/User/Documents/projects/distinct-values/data/train_small_X.pkl\",\"rb\") as f:\n",
    "    import pickle\n",
    "    done_X = pickle.load(f)\n",
    "with open(\"C:/Users/User/Documents/projects/distinct-values/data/train_small_y.pkl\",\"rb\") as f:\n",
    "    import pickle\n",
    "    done_y = pickle.load(f)"
   ]
  },
  {
   "cell_type": "code",
   "execution_count": 63,
   "metadata": {},
   "outputs": [],
   "source": [
    "from sklearn.ensemble import RandomForestRegressor"
   ]
  },
  {
   "cell_type": "code",
   "execution_count": 65,
   "metadata": {},
   "outputs": [],
   "source": [
    "rf = RandomForestRegressor(n_estimators=400)"
   ]
  },
  {
   "cell_type": "code",
   "execution_count": 66,
   "metadata": {},
   "outputs": [
    {
     "data": {
      "text/plain": [
       "30000"
      ]
     },
     "execution_count": 66,
     "metadata": {},
     "output_type": "execute_result"
    }
   ],
   "source": [
    "len(np_done_X)"
   ]
  },
  {
   "cell_type": "code",
   "execution_count": 67,
   "metadata": {},
   "outputs": [],
   "source": [
    "np_done_X = np.asarray([[i[1] for i in j] for j in done_X])\n",
    "np_done_y = np.asarray(done_y)"
   ]
  },
  {
   "cell_type": "code",
   "execution_count": 68,
   "metadata": {},
   "outputs": [
    {
     "data": {
      "text/plain": [
       "RandomForestRegressor(bootstrap=True, criterion='mse', max_depth=None,\n",
       "           max_features='auto', max_leaf_nodes=None,\n",
       "           min_impurity_decrease=0.0, min_impurity_split=None,\n",
       "           min_samples_leaf=1, min_samples_split=2,\n",
       "           min_weight_fraction_leaf=0.0, n_estimators=400, n_jobs=None,\n",
       "           oob_score=False, random_state=None, verbose=0, warm_start=False)"
      ]
     },
     "execution_count": 68,
     "metadata": {},
     "output_type": "execute_result"
    }
   ],
   "source": [
    "rf.fit(np_done_X,np_done_y)"
   ]
  },
  {
   "cell_type": "code",
   "execution_count": 74,
   "metadata": {},
   "outputs": [
    {
     "data": {
      "text/plain": [
       "array([[1.00000000e+02, 5.50000000e+01, 1.81818182e+00, 1.00000000e+00,\n",
       "        1.46521540e+00, 1.81818182e+00, 1.00000000e+00, 1.80000000e+01,\n",
       "        1.00000000e+00, 6.54876033e+00, 4.92206865e+00, 2.68031380e+01,\n",
       "        0.00000000e+00, 0.00000000e+00, 0.00000000e+00, 3.60181818e+00,\n",
       "        4.30000000e+01, 5.00000000e+00, 2.39900000e+02, 9.92083892e+01,\n",
       "        9.75700000e+01, 2.58608611e+06, 7.14958619e+01, 7.44048317e+01,\n",
       "        9.43299800e+01, 1.28666273e+02, 1.90312103e+02, 3.26790012e+02,\n",
       "        5.75772767e+02, 8.06670263e+01, 7.39161363e+01, 7.38534659e+01,\n",
       "        9.56656047e+01, 2.37662605e+04, 8.06856186e+01, 7.39497591e+01,\n",
       "        7.39460524e+01, 9.57296947e+01, 2.36616506e+05, 8.06874762e+01,\n",
       "        7.39541571e+01, 7.39535280e+01, 9.57361271e+01, 2.36511653e+06,\n",
       "        8.06876491e+01, 7.39544568e+01, 7.39543935e+01, 9.57367706e+01,\n",
       "        2.36501165e+07, 8.06877658e+01, 7.39546002e+01, 7.39544076e+01,\n",
       "        9.57368350e+01, 2.36500117e+08]])"
      ]
     },
     "execution_count": 74,
     "metadata": {},
     "output_type": "execute_result"
    }
   ],
   "source": [
    "np.asarray(est_transform(uniform[\"sample\"])).reshape(1,-1)"
   ]
  },
  {
   "cell_type": "code",
   "execution_count": 75,
   "metadata": {},
   "outputs": [
    {
     "data": {
      "text/plain": [
       "array([815.54125])"
      ]
     },
     "execution_count": 75,
     "metadata": {},
     "output_type": "execute_result"
    }
   ],
   "source": [
    "rf.predict(np.asarray(est_transform(uniform[\"sample\"])).reshape(1,-1))"
   ]
  },
  {
   "cell_type": "code",
   "execution_count": 79,
   "metadata": {},
   "outputs": [
    {
     "name": "stdout",
     "output_type": "stream",
     "text": [
      "100\n",
      "GROUND TRUTH 283\n"
     ]
    },
    {
     "name": "stderr",
     "output_type": "stream",
     "text": [
      "c:\\users\\user\\documents\\projects\\distinct-values\\pydistinct\\stats_estimators.py:219: RuntimeWarning: invalid value encountered in log\n",
      "  result = (1 + g) * np.log(g) - a * g + b\n",
      "C:\\Users\\User\\Anaconda3\\lib\\site-packages\\scipy\\optimize\\nonlin.py:1040: RuntimeWarning: invalid value encountered in true_divide\n",
      "  d = v / df_norm**2\n"
     ]
    },
    {
     "name": "stdout",
     "output_type": "stream",
     "text": [
      "XGB [525.3425]\n"
     ]
    },
    {
     "name": "stderr",
     "output_type": "stream",
     "text": [
      "c:\\users\\user\\documents\\projects\\distinct-values\\pydistinct\\stats_estimators.py:219: RuntimeWarning: invalid value encountered in log\n",
      "  result = (1 + g) * np.log(g) - a * g + b\n",
      "C:\\Users\\User\\Anaconda3\\lib\\site-packages\\scipy\\optimize\\nonlin.py:1040: RuntimeWarning: invalid value encountered in true_divide\n",
      "  d = v / df_norm**2\n"
     ]
    },
    {
     "name": "stdout",
     "output_type": "stream",
     "text": [
      "[('length of sequence', 100), ('distinct number of values', 40), ('length/distinct', 2.5), ('chi_square comparision', 1), ('chi_square and critical ratio', 2.818678796230938), ('attribute mean', 2.5), ('attribute median', 1.0), ('attribute max', 36), ('attribute min', 1), ('attribute var', 32.75), ('attribute skew', 5.106166609005273), ('attribute kurtosis', 26.500670124118642), ('attribute IRQ', 0.0), ('attribute IRQ over median', 0.0), ('attribute MAD over median', 0.0), ('attribute coefficient of variance', 13.1), ('f1', 33), ('f2', 3), ('chao_estimator', 221.5), ('chao_lee_estimator', 66.1537313432836), ('jackknife_estimator', 72.66999999999983), ('sichel_estimator', 4774438.300203742), ('bootstrap_estimator', 52.47834496265526), ('method_of_moments_estimator', 44.8106569850962), ('shlossers_estimator_2', 71.45402840958616), ('shlossers_estimator_3', 100.45656890514223), ('shlossers_estimator_5', 151.47664315614264), ('shlossers_estimator_10', 258.0757530968074), ('shlossers_estimator_20', 427.92553916445473), ('horvitz_thompson_estimator_1000', 59.49767008437581), ('method_of_moments_v2_estimator_1000', 44.6155526102478), ('method_of_moments_v3_estimator_1000', 44.543609990026745), ('smoothed_jackknife_estimator_1000', 59.18030830373889), ('hybrid_estimator_1000', 13399.360835788708), ('horvitz_thompson_estimator_10000', 59.51168183229992), ('method_of_moments_v2_estimator_10000', 44.62715221867839), ('method_of_moments_v3_estimator_10000', 44.61940347360905), ('smoothed_jackknife_estimator_10000', 59.20607036970492), ('hybrid_estimator_10000', 132199.68511590784), ('horvitz_thompson_estimator_100000', 59.51308176424435), ('method_of_moments_v2_estimator_100000', 44.62794876590698), ('method_of_moments_v3_estimator_100000', 44.62716815567337), ('smoothed_jackknife_estimator_100000', 59.208666536402724), ('hybrid_estimator_100000', 1320199.7165219658), ('horvitz_thompson_estimator_1000000', 59.513211869860314), ('method_of_moments_v2_estimator_1000000', 44.628018455690764), ('method_of_moments_v3_estimator_1000000', 44.62794521546067), ('smoothed_jackknife_estimator_1000000', 59.20892635311163), ('hybrid_estimator_1000000', 13200199.719652306), ('horvitz_thompson_estimator_10000000', 59.51330025683732), ('method_of_moments_v2_estimator_10000000', 44.62802024774352), ('method_of_moments_v3_estimator_10000000', 44.628018677330545), ('smoothed_jackknife_estimator_10000000', 59.20895233678349), ('hybrid_estimator_10000000', 132000199.71996516)]\n",
      "200\n",
      "GROUND TRUTH 267\n",
      "XGB [535.1925]\n"
     ]
    },
    {
     "name": "stderr",
     "output_type": "stream",
     "text": [
      "c:\\users\\user\\documents\\projects\\distinct-values\\pydistinct\\stats_estimators.py:219: RuntimeWarning: invalid value encountered in log\n",
      "  result = (1 + g) * np.log(g) - a * g + b\n",
      "C:\\Users\\User\\Anaconda3\\lib\\site-packages\\scipy\\optimize\\nonlin.py:1040: RuntimeWarning: invalid value encountered in true_divide\n",
      "  d = v / df_norm**2\n"
     ]
    },
    {
     "name": "stdout",
     "output_type": "stream",
     "text": [
      "[('length of sequence', 200), ('distinct number of values', 81), ('length/distinct', 2.4691358024691357), ('chi_square comparision', 1), ('chi_square and critical ratio', 3.5420608744954545), ('attribute mean', 2.4691358024691357), ('attribute median', 1.0), ('attribute max', 58), ('attribute min', 1), ('attribute var', 43.40954122847128), ('attribute skew', 7.5123990325015), ('attribute kurtosis', 59.52085618585434), ('attribute IRQ', 0.0), ('attribute IRQ over median', 0.0), ('attribute MAD over median', 0.0), ('attribute coefficient of variance', 17.580864197530868), ('f1', 63), ('f2', 5), ('chao_estimator', 477.9), ('chao_lee_estimator', 126.33280616382805), ('jackknife_estimator', 143.68499999999955), ('sichel_estimator', 15721106.874905782), ('bootstrap_estimator', 105.04507116305797), ('method_of_moments_estimator', 91.16335542395757), ('shlossers_estimator_2', 138.71707396478106), ('shlossers_estimator_3', 188.82164664361585), ('shlossers_estimator_5', 278.05539456885936), ('shlossers_estimator_10', 474.78038867217566), ('shlossers_estimator_20', 823.4183011085146), ('horvitz_thompson_estimator_1000', 118.5305425506232), ('method_of_moments_v2_estimator_1000', 90.94375093657602), ('method_of_moments_v3_estimator_1000', 90.73725655368345), ('smoothed_jackknife_estimator_1000', 117.73499913783269), ('hybrid_estimator_1000', 26015.56416358591), ('horvitz_thompson_estimator_10000', 118.55773102830256), ('method_of_moments_v2_estimator_10000', 90.97185674635067), ('method_of_moments_v3_estimator_10000', 90.94997933629256), ('smoothed_jackknife_estimator_10000', 117.78293744438787), ('hybrid_estimator_10000', 255653.71623328835), ('horvitz_thompson_estimator_100000', 118.56044684750219), ('method_of_moments_v2_estimator_100000', 90.97353877418267), ('method_of_moments_v3_estimator_100000', 90.97146285974065), ('smoothed_jackknife_estimator_100000', 117.78778227921495), ('hybrid_estimator_100000', 2552004.0263509355), ('horvitz_thompson_estimator_1000000', 118.56067745892291), ('method_of_moments_v2_estimator_1000000', 90.973803324983), ('method_of_moments_v3_estimator_1000000', 90.97358095108066), ('smoothed_jackknife_estimator_1000000', 117.78826727385187), ('hybrid_estimator_1000000', 25515504.057310622), ('horvitz_thompson_estimator_10000000', 118.56110373650053), ('method_of_moments_v2_estimator_10000000', 90.97389001593567), ('method_of_moments_v3_estimator_10000000', 90.97386875248854), ('smoothed_jackknife_estimator_10000000', 117.78831577842843), ('hybrid_estimator_10000000', 255150504.06040582)]\n",
      "300\n",
      "GROUND TRUTH 291\n",
      "XGB [647.9575]\n"
     ]
    },
    {
     "name": "stderr",
     "output_type": "stream",
     "text": [
      "c:\\users\\user\\documents\\projects\\distinct-values\\pydistinct\\stats_estimators.py:219: RuntimeWarning: invalid value encountered in log\n",
      "  result = (1 + g) * np.log(g) - a * g + b\n",
      "C:\\Users\\User\\Anaconda3\\lib\\site-packages\\scipy\\optimize\\nonlin.py:1040: RuntimeWarning: invalid value encountered in true_divide\n",
      "  d = v / df_norm**2\n"
     ]
    },
    {
     "name": "stdout",
     "output_type": "stream",
     "text": [
      "[('length of sequence', 300), ('distinct number of values', 113), ('length/distinct', 2.6548672566371683), ('chi_square comparision', 1), ('chi_square and critical ratio', 4.442772071595547), ('attribute mean', 2.6548672566371683), ('attribute median', 1.0), ('attribute max', 85), ('attribute min', 1), ('attribute var', 70.38530816821994), ('attribute skew', 8.644490256977678), ('attribute kurtosis', 79.91276846911697), ('attribute IRQ', 0.0), ('attribute IRQ over median', 0.0), ('attribute MAD over median', 0.0), ('attribute coefficient of variance', 26.511799410029507), ('f1', 86), ('f2', 10), ('chao_estimator', 482.8), ('chao_lee_estimator', 169.0654894825352), ('jackknife_estimator', 198.71333333333186), ('sichel_estimator', 5629933.7655796055), ('bootstrap_estimator', 146.32336718226256), ('method_of_moments_estimator', 124.04800614448459), ('shlossers_estimator_2', 190.72029116279975), ('shlossers_estimator_3', 258.9530612461739), ('shlossers_estimator_5', 382.5859221732671), ('shlossers_estimator_10', 655.4845403264226), ('shlossers_estimator_20', 1136.9906991232015), ('horvitz_thompson_estimator_1000', 164.84180388970896), ('method_of_moments_v2_estimator_1000', 123.87212810659274), ('method_of_moments_v3_estimator_1000', 123.4878517522984), ('smoothed_jackknife_estimator_1000', 157.94695610041785), ('hybrid_estimator_1000', 33323.70766979245), ('horvitz_thompson_estimator_10000', 164.8795501177952), ('method_of_moments_v2_estimator_10000', 123.8912153786286), ('method_of_moments_v3_estimator_10000', 123.85258908707117), ('smoothed_jackknife_estimator_10000', 158.00302605102456), ('hybrid_estimator_10000', 324871.8628531125), ('horvitz_thompson_estimator_100000', 164.88332552193265), ('method_of_moments_v2_estimator_100000', 123.89312470171863), ('method_of_moments_v3_estimator_100000', 123.8893810488798), ('smoothed_jackknife_estimator_100000', 158.0087130102014), ('hybrid_estimator_100000', 3240272.657502968), ('horvitz_thompson_estimator_1000000', 164.88370217265134), ('method_of_moments_v2_estimator_1000000', 123.8934172850021), ('method_of_moments_v3_estimator_1000000', 123.8930307986173), ('smoothed_jackknife_estimator_1000000', 158.00928250787328), ('hybrid_estimator_1000000', 32394272.7367525), ('horvitz_thompson_estimator_10000000', 164.88309696766765), ('method_of_moments_v2_estimator_10000000', 123.89346284618539), ('method_of_moments_v3_estimator_10000000', 123.89342419724507), ('smoothed_jackknife_estimator_10000000', 158.00933946565956), ('hybrid_estimator_10000000', 323934272.74467474)]\n",
      "400\n",
      "GROUND TRUTH 278\n",
      "138.66803565401236\n",
      "XGB [884.9125]\n"
     ]
    },
    {
     "name": "stderr",
     "output_type": "stream",
     "text": [
      "c:\\users\\user\\documents\\projects\\distinct-values\\pydistinct\\stats_estimators.py:219: RuntimeWarning: invalid value encountered in log\n",
      "  result = (1 + g) * np.log(g) - a * g + b\n",
      "C:\\Users\\User\\Anaconda3\\lib\\site-packages\\scipy\\optimize\\nonlin.py:1040: RuntimeWarning: invalid value encountered in true_divide\n",
      "  d = v / df_norm**2\n"
     ]
    },
    {
     "name": "stdout",
     "output_type": "stream",
     "text": [
      "138.66803565401236\n",
      "[('length of sequence', 400), ('distinct number of values', 131), ('length/distinct', 3.053435114503817), ('chi_square comparision', 1), ('chi_square and critical ratio', 3.53154508810146), ('attribute mean', 3.053435114503817), ('attribute median', 1.0), ('attribute max', 97), ('attribute min', 1), ('attribute var', 87.10401491754561), ('attribute skew', 8.264699160313489), ('attribute kurtosis', 76.77882700532831), ('attribute IRQ', 1.0), ('attribute IRQ over median', 1.0), ('attribute MAD over median', 0.0), ('attribute coefficient of variance', 28.526564885496185), ('f1', 97), ('f2', 13), ('chao_estimator', 492.88461538461536), ('chao_lee_estimator', 182.0695603758849), ('jackknife_estimator', 227.75750000000272), ('sichel_estimator', 8534563.793204583), ('bootstrap_estimator', 168.7222170003614), ('method_of_moments_estimator', 138.77079752428577), ('shlossers_estimator_2', 218.59810509590332), ('shlossers_estimator_3', 294.65916031386394), ('shlossers_estimator_5', 429.9068081837288), ('shlossers_estimator_10', 717.2916536112069), ('shlossers_estimator_20', 1194.1687411641562), ('horvitz_thompson_estimator_1000', 189.661679676186), ('method_of_moments_v2_estimator_1000', 138.64461528077226), ('method_of_moments_v3_estimator_1000', 138.31807409741955), ('smoothed_jackknife_estimator_1000', 172.5626924566279), ('hybrid_estimator_1000', 32763.16143116793), ('horvitz_thompson_estimator_10000', 189.70441415955182), ('method_of_moments_v2_estimator_10000', 138.6658061985995), ('method_of_moments_v3_estimator_10000', 138.63300154127242), ('smoothed_jackknife_estimator_10000', 172.6116560496893), ('hybrid_estimator_10000', 318679.49249850237), ('horvitz_thompson_estimator_100000', 189.70865663527655), ('method_of_moments_v2_estimator_100000', 138.66768326578602), ('method_of_moments_v3_estimator_100000', 138.66431968123317), ('smoothed_jackknife_estimator_100000', 172.6166105603628), ('hybrid_estimator_100000', 3177755.354605831), ('horvitz_thompson_estimator_1000000', 189.70898196848577), ('method_of_moments_v2_estimator_1000000', 138.6678521948762), ('method_of_moments_v3_estimator_1000000', 138.667513313112), ('smoothed_jackknife_estimator_1000000', 172.61710659469762), ('hybrid_estimator_1000000', 31768505.440597836), ('horvitz_thompson_estimator_10000000', 189.7092720479668), ('method_of_moments_v2_estimator_10000000', 131), ('method_of_moments_v3_estimator_10000000', 138.66814890513854), ('smoothed_jackknife_estimator_10000000', 172.6171562039653), ('hybrid_estimator_10000000', 317676005.4491943)]\n",
      "500\n",
      "GROUND TRUTH 282\n",
      "169.87224025355263\n",
      "XGB [300.04]\n"
     ]
    },
    {
     "name": "stderr",
     "output_type": "stream",
     "text": [
      "c:\\users\\user\\documents\\projects\\distinct-values\\pydistinct\\stats_estimators.py:219: RuntimeWarning: invalid value encountered in log\n",
      "  result = (1 + g) * np.log(g) - a * g + b\n",
      "C:\\Users\\User\\Anaconda3\\lib\\site-packages\\scipy\\optimize\\nonlin.py:1040: RuntimeWarning: invalid value encountered in true_divide\n",
      "  d = v / df_norm**2\n"
     ]
    },
    {
     "name": "stdout",
     "output_type": "stream",
     "text": [
      "169.87224025355263\n",
      "[('length of sequence', 500), ('distinct number of values', 161), ('length/distinct', 3.1055900621118013), ('chi_square comparision', 1), ('chi_square and critical ratio', 4.551089418479376), ('attribute mean', 3.1055900621118013), ('attribute median', 1.0), ('attribute max', 123), ('attribute min', 1), ('attribute var', 119.95779483816212), ('attribute skew', 8.936423616559628), ('attribute kurtosis', 89.44317935137684), ('attribute IRQ', 0.0), ('attribute IRQ over median', 0.0), ('attribute MAD over median', 0.0), ('attribute coefficient of variance', 38.6264099378882), ('f1', 126), ('f2', 12), ('chao_estimator', 822.5), ('chao_lee_estimator', 228.2538172518019), ('jackknife_estimator', 286.74800000000477), ('sichel_estimator', 12696626.676199922), ('bootstrap_estimator', 209.4290070077147), ('method_of_moments_estimator', 169.97046072328502), ('shlossers_estimator_2', 276.72386772518666), ('shlossers_estimator_3', 380.73396751323577), ('shlossers_estimator_5', 570.5998956805097), ('shlossers_estimator_10', 977.5234614581923), ('shlossers_estimator_20', 1650.6918748499825), ('horvitz_thompson_estimator_1000', 236.55078142252748), ('method_of_moments_v2_estimator_1000', 169.85297123308789), ('method_of_moments_v3_estimator_1000', 169.32083777993935), ('smoothed_jackknife_estimator_1000', 214.83258745945807), ('hybrid_estimator_1000', 42241.881562629475), ('horvitz_thompson_estimator_10000', 236.60561066902847), ('method_of_moments_v2_estimator_10000', 169.87011722764558), ('method_of_moments_v3_estimator_10000', 169.81755619541403), ('smoothed_jackknife_estimator_10000', 214.89652874969838), ('hybrid_estimator_10000', 407405.8765201091), ('horvitz_thompson_estimator_100000', 236.61110258977234), ('method_of_moments_v2_estimator_100000', 169.8723982173561), ('method_of_moments_v3_estimator_100000', 169.8670453383861), ('smoothed_jackknife_estimator_100000', 214.9030208665561), ('hybrid_estimator_100000', 4058887.4091885425), ('horvitz_thompson_estimator_1000000', 236.61169433719957), ('method_of_moments_v2_estimator_1000000', 169.87253882930705), ('method_of_moments_v3_estimator_1000000', 169.87200351488374), ('smoothed_jackknife_estimator_1000000', 214.90367106068612), ('hybrid_estimator_1000000', 40573687.56175955), ('horvitz_thompson_estimator_10000000', 236.61100121395032), ('method_of_moments_v2_estimator_10000000', 161), ('method_of_moments_v3_estimator_10000000', 169.87234245472777), ('smoothed_jackknife_estimator_10000000', 214.90373608992655), ('hybrid_estimator_10000000', 405721687.5770088)]\n",
      "600\n",
      "GROUND TRUTH 286\n",
      "201.10313053883343\n",
      "XGB [632.97]\n"
     ]
    },
    {
     "name": "stderr",
     "output_type": "stream",
     "text": [
      "c:\\users\\user\\documents\\projects\\distinct-values\\pydistinct\\stats_estimators.py:219: RuntimeWarning: invalid value encountered in log\n",
      "  result = (1 + g) * np.log(g) - a * g + b\n",
      "C:\\Users\\User\\Anaconda3\\lib\\site-packages\\scipy\\optimize\\nonlin.py:1040: RuntimeWarning: invalid value encountered in true_divide\n",
      "  d = v / df_norm**2\n"
     ]
    },
    {
     "name": "stdout",
     "output_type": "stream",
     "text": [
      "201.10313053883343\n",
      "[('length of sequence', 600), ('distinct number of values', 191), ('length/distinct', 3.141361256544503), ('chi_square comparision', 1), ('chi_square and critical ratio', 4.267885586995211), ('attribute mean', 3.141361256544503), ('attribute median', 1.0), ('attribute max', 130), ('attribute min', 1), ('attribute var', 117.7653573092843), ('attribute skew', 9.406326054456235), ('attribute kurtosis', 99.84144669061843), ('attribute IRQ', 1.0), ('attribute IRQ over median', 1.0), ('attribute MAD over median', 0.0), ('attribute coefficient of variance', 37.488638743455496), ('f1', 142), ('f2', 20), ('chao_estimator', 695.1), ('chao_lee_estimator', 261.8414556802853), ('jackknife_estimator', 332.7633333333406), ('sichel_estimator', 12612211.217126718), ('bootstrap_estimator', 246.38325170668838), ('method_of_moments_estimator', 201.19750008484593), ('shlossers_estimator_2', 319.4592597185768), ('shlossers_estimator_3', 432.0767290287997), ('shlossers_estimator_5', 631.1063330240866), ('shlossers_estimator_10', 1054.0827950569305), ('shlossers_estimator_20', 1773.5112794917604), ('horvitz_thompson_estimator_1000', 277.0941368109645), ('method_of_moments_v2_estimator_1000', 201.08219385371143), ('method_of_moments_v3_estimator_1000', 200.48768456774152), ('smoothed_jackknife_estimator_1000', 249.83207314358626), ('hybrid_estimator_1000', 47019.19115564327), ('horvitz_thompson_estimator_10000', 277.15688562337107), ('method_of_moments_v2_estimator_10000', 201.10078991900428), ('method_of_moments_v3_estimator_10000', 201.04103792796107), ('smoothed_jackknife_estimator_10000', 249.90057292826438), ('hybrid_estimator_10000', 453871.35272466374), ('horvitz_thompson_estimator_100000', 277.16313427911916), ('method_of_moments_v2_estimator_100000', 201.10264756290056), ('method_of_moments_v3_estimator_100000', 201.09677959192962), ('smoothed_jackknife_estimator_100000', 249.90752352297875), ('hybrid_estimator_100000', 4522173.503262737), ('horvitz_thompson_estimator_1000000', 277.1642157451278), ('method_of_moments_v2_estimator_1000000', 201.10292780173822), ('method_of_moments_v3_estimator_1000000', 201.102329943457), ('smoothed_jackknife_estimator_1000000', 249.90821959101606), ('hybrid_estimator_1000000', 45205173.717623375), ('horvitz_thompson_estimator_10000000', 277.16325577009803), ('method_of_moments_v2_estimator_10000000', 191), ('method_of_moments_v3_estimator_10000000', 201.10296946102835), ('smoothed_jackknife_estimator_10000000', 249.90828920790798), ('hybrid_estimator_10000000', 452035173.7390516)]\n",
      "700\n",
      "GROUND TRUTH 264\n",
      "212.88385263859078\n",
      "212.88385263859078\n",
      "212.88385263859078\n",
      "212.88385263859078\n",
      "212.88385263859078\n",
      "212.88384748949696\n",
      "212.88385263859078\n",
      "XGB [568.1525]\n"
     ]
    },
    {
     "name": "stderr",
     "output_type": "stream",
     "text": [
      "c:\\users\\user\\documents\\projects\\distinct-values\\pydistinct\\stats_estimators.py:219: RuntimeWarning: invalid value encountered in log\n",
      "  result = (1 + g) * np.log(g) - a * g + b\n",
      "C:\\Users\\User\\Anaconda3\\lib\\site-packages\\scipy\\optimize\\nonlin.py:1040: RuntimeWarning: invalid value encountered in true_divide\n",
      "  d = v / df_norm**2\n"
     ]
    },
    {
     "name": "stdout",
     "output_type": "stream",
     "text": [
      "212.88385263859078\n",
      "212.88385263859078\n",
      "212.88385263859078\n",
      "212.88385263859078\n",
      "212.88385263859078\n",
      "212.88384748949696\n",
      "212.88385263859078\n",
      "[('length of sequence', 700), ('distinct number of values', 205), ('length/distinct', 3.4146341463414633), ('chi_square comparision', 1), ('chi_square and critical ratio', 5.631614517254549), ('attribute mean', 3.4146341463414633), ('attribute median', 1.0), ('attribute max', 177), ('attribute min', 1), ('attribute var', 201.35490779298038), ('attribute skew', 10.02225025790629), ('attribute kurtosis', 111.72393668697545), ('attribute IRQ', 1.0), ('attribute IRQ over median', 1.0), ('attribute MAD over median', 0.0), ('attribute coefficient of variance', 58.968222996515685), ('f1', 153), ('f2', 22), ('chao_estimator', 737.0227272727273), ('chao_lee_estimator', 278.8338905273618), ('jackknife_estimator', 357.7814285714344), ('sichel_estimator', 16369071.556976307), ('bootstrap_estimator', 264.8097236309617), ('method_of_moments_estimator', 212.9569020645777), ('shlossers_estimator_2', 342.6044637147788), ('shlossers_estimator_3', 463.00262777932386), ('shlossers_estimator_5', 680.5881403054784), ('shlossers_estimator_10', 1166.6354893187918), ('shlossers_estimator_20', 2013.2996552049183), ('horvitz_thompson_estimator_1000', 297.9214261276278), ('method_of_moments_v2_estimator_1000', 212.86364062048236), ('method_of_moments_v3_estimator_1000', 211.17818438145284), ('smoothed_jackknife_estimator_1000', 261.98851369015813), ('hybrid_estimator_1000', 47573.21434994656), ('horvitz_thompson_estimator_10000', 297.9892421973825), ('method_of_moments_v2_estimator_10000', 212.88153809318462), ('method_of_moments_v3_estimator_10000', 211.83751393987646), ('smoothed_jackknife_estimator_10000', 262.05302334342906), ('hybrid_estimator_10000', 450870.44892893656), ('horvitz_thompson_estimator_100000', 297.99604747769916), ('method_of_moments_v2_estimator_100000', 212.8836584089081), ('method_of_moments_v3_estimator_100000', 211.90405478261266), ('smoothed_jackknife_estimator_100000', 262.0595972507242), ('hybrid_estimator_100000', 4483516.341898197), ('horvitz_thompson_estimator_1000000', 297.99591277466385), ('method_of_moments_v2_estimator_1000000', 205), ('method_of_moments_v3_estimator_1000000', 211.91070101490126), ('smoothed_jackknife_estimator_1000000', 262.0602558735012), ('hybrid_estimator_1000000', 44809945.21419299), ('horvitz_thompson_estimator_10000000', 297.9985933700033), ('method_of_moments_v2_estimator_10000000', 205), ('method_of_moments_v3_estimator_10000000', 211.91148781004478), ('smoothed_jackknife_estimator_10000000', 262.06032174810315), ('hybrid_estimator_10000000', 448074230.95853657)]\n",
      "800\n",
      "GROUND TRUTH 283\n",
      "247.74477074178608\n",
      "XGB [760.64]\n"
     ]
    },
    {
     "name": "stderr",
     "output_type": "stream",
     "text": [
      "c:\\users\\user\\documents\\projects\\distinct-values\\pydistinct\\stats_estimators.py:219: RuntimeWarning: invalid value encountered in log\n",
      "  result = (1 + g) * np.log(g) - a * g + b\n",
      "C:\\Users\\User\\Anaconda3\\lib\\site-packages\\scipy\\optimize\\nonlin.py:1040: RuntimeWarning: invalid value encountered in true_divide\n",
      "  d = v / df_norm**2\n"
     ]
    },
    {
     "name": "stdout",
     "output_type": "stream",
     "text": [
      "247.74477074178608\n",
      "[('length of sequence', 800), ('distinct number of values', 238), ('length/distinct', 3.361344537815126), ('chi_square comparision', 1), ('chi_square and critical ratio', 5.808613247932067), ('attribute mean', 3.361344537815126), ('attribute median', 1.0), ('attribute max', 195), ('attribute min', 1), ('attribute var', 199.52489230986518), ('attribute skew', 11.182932175420857), ('attribute kurtosis', 142.0308121345471), ('attribute IRQ', 0.0), ('attribute IRQ over median', 0.0), ('attribute MAD over median', 0.0), ('attribute coefficient of variance', 59.35865546218489), ('f1', 186), ('f2', 20), ('chao_estimator', 1102.9), ('chao_lee_estimator', 328.07933211069445), ('jackknife_estimator', 423.76749999999004), ('sichel_estimator', 19557914.861667007), ('bootstrap_estimator', 309.60408939299253), ('method_of_moments_estimator', 247.82155833040056), ('shlossers_estimator_2', 409.27208561167186), ('shlossers_estimator_3', 562.482348230719), ('shlossers_estimator_5', 839.122886754794), ('shlossers_estimator_10', 1440.0924919028528), ('shlossers_estimator_20', 2445.033615430675), ('horvitz_thompson_estimator_1000', 349.71596181111767), ('method_of_moments_v2_estimator_1000', 247.71954158806062), ('method_of_moments_v3_estimator_1000', 246.75036112140782), ('smoothed_jackknife_estimator_1000', 309.7028873186065), ('hybrid_estimator_1000', 58732.763663155114), ('horvitz_thompson_estimator_10000', 349.7970140118492), ('method_of_moments_v2_estimator_10000', 247.74245234994328), ('method_of_moments_v3_estimator_10000', 247.64490957825114), ('smoothed_jackknife_estimator_10000', 309.7854336749983), ('hybrid_estimator_10000', 556810.6298731305), ('horvitz_thompson_estimator_100000', 349.8051050042493), ('method_of_moments_v2_estimator_100000', 247.74455023690996), ('method_of_moments_v3_estimator_100000', 247.73478383395317), ('smoothed_jackknife_estimator_100000', 309.7938511637833), ('hybrid_estimator_100000', 5536966.614878706), ('horvitz_thompson_estimator_1000000', 349.8050113245712), ('method_of_moments_v2_estimator_1000000', 247.744746168759), ('method_of_moments_v3_estimator_1000000', 247.74377607581587), ('smoothed_jackknife_estimator_1000000', 309.79469454612814), ('hybrid_estimator_1000000', 55338467.210101336), ('horvitz_thompson_estimator_10000000', 349.8137288591925), ('method_of_moments_v2_estimator_10000000', 238), ('method_of_moments_v3_estimator_10000000', 247.74448043629016), ('smoothed_jackknife_estimator_10000000', 309.7947789007019), ('hybrid_estimator_10000000', 553353467.2695887)]\n",
      "900\n",
      "GROUND TRUTH 286\n",
      "XGB [877.0575]\n"
     ]
    },
    {
     "name": "stderr",
     "output_type": "stream",
     "text": [
      "c:\\users\\user\\documents\\projects\\distinct-values\\pydistinct\\stats_estimators.py:219: RuntimeWarning: invalid value encountered in log\n",
      "  result = (1 + g) * np.log(g) - a * g + b\n",
      "C:\\Users\\User\\Anaconda3\\lib\\site-packages\\scipy\\optimize\\nonlin.py:1040: RuntimeWarning: invalid value encountered in true_divide\n",
      "  d = v / df_norm**2\n"
     ]
    },
    {
     "name": "stdout",
     "output_type": "stream",
     "text": [
      "[('length of sequence', 900), ('distinct number of values', 270), ('length/distinct', 3.3333333333333335), ('chi_square comparision', 1), ('chi_square and critical ratio', 6.910240371352143), ('attribute mean', 3.3333333333333335), ('attribute median', 1.0), ('attribute max', 223), ('attribute min', 1), ('attribute var', 232.84444444444443), ('attribute skew', 11.976935937807712), ('attribute kurtosis', 160.5505283049541), ('attribute IRQ', 0.0), ('attribute IRQ over median', 0.0), ('attribute MAD over median', 0.0), ('attribute coefficient of variance', 69.85333333333332), ('f1', 210), ('f2', 15), ('chao_estimator', 1740.0), ('chao_lee_estimator', 373.4336231884059), ('jackknife_estimator', 479.7666666666803), ('sichel_estimator', 19432217.57269994), ('bootstrap_estimator', 350.18407718705186), ('method_of_moments_estimator', 281.5087112129561), ('shlossers_estimator_2', 462.7425809971596), ('shlossers_estimator_3', 629.8145740794746), ('shlossers_estimator_5', 926.6956797729455), ('shlossers_estimator_10', 1584.6459652930532), ('shlossers_estimator_20', 2753.829561648524), ('horvitz_thompson_estimator_1000', 395.3388568241231), ('method_of_moments_v2_estimator_1000', 281.39834214972785), ('method_of_moments_v3_estimator_1000', 280.0841705751722), ('smoothed_jackknife_estimator_1000', 351.7650965386139), ('hybrid_estimator_1000', 67504.11999538046), ('horvitz_thompson_estimator_10000', 395.42970844914754), ('method_of_moments_v2_estimator_10000', 281.42745867319155), ('method_of_moments_v3_estimator_10000', 281.29401441548157), ('smoothed_jackknife_estimator_10000', 351.8588931315765), ('hybrid_estimator_10000', 634597.9945052344), ('horvitz_thompson_estimator_100000', 395.438740160414), ('method_of_moments_v2_estimator_100000', 281.42965230654556), ('method_of_moments_v3_estimator_100000', 281.4162989144702), ('smoothed_jackknife_estimator_100000', 351.8684957508662), ('hybrid_estimator_100000', 6304606.789953846), ('horvitz_thompson_estimator_1000000', 395.44109575694233), ('method_of_moments_v2_estimator_1000000', 281.4299363500224), ('method_of_moments_v3_estimator_1000000', 281.4286009132303), ('smoothed_jackknife_estimator_1000000', 351.86945824815336), ('hybrid_estimator_1000000', 63004607.663061045), ('horvitz_thompson_estimator_10000000', 395.4411493965105), ('method_of_moments_v2_estimator_10000000', 281.4303453855656), ('method_of_moments_v3_estimator_10000000', 281.4298482527982), ('smoothed_jackknife_estimator_10000000', 351.8695545202416), ('hybrid_estimator_10000000', 630004607.7503046)]\n"
     ]
    }
   ],
   "source": [
    "for i in [100,200,300,400,500,600,700,800,900]:\n",
    "    print(i)\n",
    "    uniform = sampling.sample_zipf(sample_size=i)\n",
    "    print(\"GROUND TRUTH\", uniform[\"ground_truth\"])\n",
    "    print(\"XGB\",rf.predict(np.asarray(est_transform(uniform[\"sample\"])).reshape(1,-1)))\n",
    "    print(est_transform(uniform[\"sample\"],features=True))\n"
   ]
  },
  {
   "cell_type": "code",
   "execution_count": null,
   "metadata": {},
   "outputs": [],
   "source": []
  }
 ],
 "metadata": {
  "kernelspec": {
   "display_name": "Python 3",
   "language": "python",
   "name": "python3"
  },
  "language_info": {
   "codemirror_mode": {
    "name": "ipython",
    "version": 3
   },
   "file_extension": ".py",
   "mimetype": "text/x-python",
   "name": "python",
   "nbconvert_exporter": "python",
   "pygments_lexer": "ipython3",
   "version": "3.7.3"
  }
 },
 "nbformat": 4,
 "nbformat_minor": 2
}
